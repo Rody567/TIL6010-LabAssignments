{
 "cells": [
  {
   "cell_type": "markdown",
   "metadata": {},
   "source": [
    "# Project Group 30!\n",
    "\n",
    "Members: \n",
    "1. Rody Boting\n",
    "2. Hugo Odijk\n",
    "3. Tim de Ridder\n",
    "4. Wouter van der Veer\n",
    "5. Jesse Zegeling\n",
    "\n",
    "Student numbers: \n",
    "1. 5421446\n",
    "2. 4945824\n",
    "3. 4937961\n",
    "4. 4708121\n",
    "5. 4717309"
   ]
  },
  {
   "cell_type": "markdown",
   "metadata": {},
   "source": [
    "# Research Objective\n",
    "\n",
    "*Requires data modeling and quantitative research in Transport, Infrastructure & Logistics*\n",
    "\n",
    "##### What were the main air traffic delays for domestic flights in the USA over 2015? "
   ]
  },
  {
   "cell_type": "markdown",
   "metadata": {},
   "source": [
    "## Subquestions\n",
    "\n",
    "- What are the main causes of delay?\n",
    "- Which airports have the most delay?\n",
    "- To which airline are the most delays linked?\n",
    "- How do delays change over the year/week per airport? \n",
    "- Is there a correlation between weather and delay? "
   ]
  },
  {
   "cell_type": "markdown",
   "metadata": {},
   "source": [
    "## Hypothesis\n",
    "\n",
    "1. De grote van de luchthaven is gelijk aan de grote van de vertraging.\n",
    "2. De verwachting is dat het weer meer invloed op de vertraging dan andere redenen van vertraging."
   ]
  },
  {
   "cell_type": "markdown",
   "metadata": {},
   "source": [
    "# Contribution Statement\n",
    "\n",
    "*Be specific. Some of the tasks can be coding (expect everyone to do this), background research, conceptualisation, visualisation, data analysis, data modelling*"
   ]
  },
  {
   "cell_type": "markdown",
   "metadata": {},
   "source": [
    "To be determined:\n",
    "\n",
    "**Author 1 (Rody)**: Coding, communication\n",
    "\n",
    "**Author 2 (Hugo)**: Coding\n",
    "\n",
    "**Author 3 (Tim)**: Coding\n",
    "\n",
    "**Author 4 (Wouter)**: Coding\n",
    "\n",
    "**Author 5 (Jesse)**: Coding"
   ]
  },
  {
   "cell_type": "markdown",
   "metadata": {},
   "source": [
    "# Data Used"
   ]
  },
  {
   "cell_type": "markdown",
   "metadata": {},
   "source": [
    "- Flight data USA in 2015:\n",
    "    * https://www.kaggle.com/datasets/usdot/flight-delays \n",
    "    \n",
    "- Weather data:\n",
    "    * https://github.com/fivethirtyeight/data/tree/master/us-weather-history\n",
    "    \n",
    "- IATA-codes list, including coordinates:\n",
    "    * https://raw.githubusercontent.com/lxndrblz/Airports/main/airports.csv\n",
    "    * iata-utils/iata_airlines.csv at master · benct/iata-utils (github.com)\n",
    "    \n",
    "- Passenger numbers of airports USA in 2015 (Will not be used in the project, out of scope):\n",
    "    * https://www.faa.gov/airports/planning_capacity/passenger_allcargo_stats/passenger/media/cy15-commercial-service-enplanements.pdf "
   ]
  },
  {
   "cell_type": "markdown",
   "metadata": {},
   "source": [
    "# Data Pipeline"
   ]
  },
  {
   "cell_type": "markdown",
   "metadata": {},
   "source": [
    "The large dataset of flights and delays, including the concerning airports and which airlines operate the flights can be used to visualise where in America the delays took place in the year 2015. This can be animated per day using colours and lines that change over the year. \n",
    "To clearly display the visualisations, there is also a data set with coordinates of the airports and their full names.  \n",
    "Finally, daily data from rainfall is also compared to the delays to see if there is a trend between the two.\n",
    "\n",
    "Process:\n",
    "1. Data import\n",
    "2. Data processing\n",
    "3. Data visualisation"
   ]
  },
  {
   "cell_type": "markdown",
   "metadata": {},
   "source": [
    "# Data import"
   ]
  },
  {
   "cell_type": "code",
   "execution_count": null,
   "metadata": {},
   "outputs": [],
   "source": [
    "CODE"
   ]
  },
  {
   "cell_type": "markdown",
   "metadata": {},
   "source": [
    "# Data processing"
   ]
  },
  {
   "cell_type": "code",
   "execution_count": null,
   "metadata": {},
   "outputs": [],
   "source": [
    "CODE"
   ]
  },
  {
   "cell_type": "markdown",
   "metadata": {},
   "source": [
    "# Data visualisation"
   ]
  },
  {
   "cell_type": "code",
   "execution_count": null,
   "metadata": {},
   "outputs": [],
   "source": [
    "CODE"
   ]
  },
  {
   "cell_type": "markdown",
   "metadata": {},
   "source": [
    "# Analysis of results\n",
    "\n",
    "Blablabla"
   ]
  },
  {
   "cell_type": "markdown",
   "metadata": {},
   "source": [
    "# Conclusion & discussion\n",
    "\n",
    "Blabla"
   ]
  },
  {
   "cell_type": "code",
   "execution_count": null,
   "metadata": {},
   "outputs": [],
   "source": [
    "END"
   ]
  }
 ],
 "metadata": {
  "kernelspec": {
   "display_name": "Python 3 (ipykernel)",
   "language": "python",
   "name": "python3"
  },
  "language_info": {
   "codemirror_mode": {
    "name": "ipython",
    "version": 3
   },
   "file_extension": ".py",
   "mimetype": "text/x-python",
   "name": "python",
   "nbconvert_exporter": "python",
   "pygments_lexer": "ipython3",
   "version": "3.10.4"
  },
  "vscode": {
   "interpreter": {
    "hash": "31f2aee4e71d21fbe5cf8b01ff0e069b9275f58929596ceb00d14d90e3e16cd6"
   }
  }
 },
 "nbformat": 4,
 "nbformat_minor": 2
}
