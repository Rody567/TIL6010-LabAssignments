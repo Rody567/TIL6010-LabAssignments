{
 "cells": [
  {
   "cell_type": "code",
   "execution_count": 1,
   "id": "e51d4a0f",
   "metadata": {},
   "outputs": [
    {
     "data": {
      "text/html": [
       "        <script type=\"text/javascript\">\n",
       "        window.PlotlyConfig = {MathJaxConfig: 'local'};\n",
       "        if (window.MathJax && window.MathJax.Hub && window.MathJax.Hub.Config) {window.MathJax.Hub.Config({SVG: {font: \"STIX-Web\"}});}\n",
       "        if (typeof require !== 'undefined') {\n",
       "        require.undef(\"plotly\");\n",
       "        requirejs.config({\n",
       "            paths: {\n",
       "                'plotly': ['https://cdn.plot.ly/plotly-2.14.0.min']\n",
       "            }\n",
       "        });\n",
       "        require(['plotly'], function(Plotly) {\n",
       "            window._Plotly = Plotly;\n",
       "        });\n",
       "        }\n",
       "        </script>\n",
       "        "
      ]
     },
     "metadata": {},
     "output_type": "display_data"
    }
   ],
   "source": [
    "### Import of packages\n",
    "%matplotlib notebook\n",
    "\n",
    "\n",
    "from urllib.request import urlopen\n",
    "from plotly.offline import init_notebook_mode\n",
    "import plotly.express as px\n",
    "import plotly.graph_objects as go\n",
    "import json\n",
    "import pandas as pd\n",
    "import numpy as np\n",
    "import itertools\n",
    "import matplotlib.pyplot as plt\n",
    "import matplotlib.animation as animation\n",
    "import plotly.io as pio\n",
    "import geopandas as gpd\n",
    "import math\n",
    "\n",
    "init_notebook_mode(connected=True)\n",
    "pio.renderers.default = \"plotly_mimetype+notebook\""
   ]
  },
  {
   "cell_type": "code",
   "execution_count": 2,
   "id": "5857c467",
   "metadata": {},
   "outputs": [
    {
     "name": "stderr",
     "output_type": "stream",
     "text": [
      "C:\\Users\\hugoo\\AppData\\Local\\Temp\\ipykernel_2148\\908023021.py:3: DtypeWarning:\n",
      "\n",
      "Columns (7,8) have mixed types. Specify dtype option on import or set low_memory=False.\n",
      "\n"
     ]
    }
   ],
   "source": [
    "### Import data\n",
    "#### 'flights.csv' can be downloaded on https://www.kaggle.com/datasets/usdot/flight-delays?select=flights.csv\n",
    "df = pd.read_csv('flights.csv')\n",
    "df_airports = pd.read_csv('https://raw.githubusercontent.com/Rody567/TIL6022-LabAssignments/main/Project/Data/airports.csv')"
   ]
  },
  {
   "cell_type": "code",
   "execution_count": 3,
   "id": "9954a5ce",
   "metadata": {},
   "outputs": [],
   "source": [
    "### Find all airports\n",
    "airports = df.ORIGIN_AIRPORT.unique()\n",
    "\n",
    "### Choose Airport ###\n",
    "Airport = \"ATL\"\n",
    "\n",
    "### Find all flights departing or arriving at set airport\n",
    "fly = []\n",
    "delay = []\n",
    "for i in range(len(df)):\n",
    "    if df.ORIGIN_AIRPORT[i] == Airport:\n",
    "        fly.append(df.DESTINATION_AIRPORT[i])\n",
    "        if df.ARRIVAL_DELAY[i]>0:\n",
    "            delay.append(df.ARRIVAL_DELAY[i])\n",
    "        else:\n",
    "            delay.append(0)\n",
    "    if df.DESTINATION_AIRPORT[i] == Airport:\n",
    "        fly.append(df.ORIGIN_AIRPORT[i])\n",
    "        if df.ARRIVAL_DELAY[i]>0:\n",
    "            delay.append(df.ARRIVAL_DELAY[i])\n",
    "        else:\n",
    "            delay.append(0)"
   ]
  },
  {
   "cell_type": "code",
   "execution_count": 4,
   "id": "0f785df1",
   "metadata": {},
   "outputs": [],
   "source": [
    "### Set up data frame for information of total number of flights and delays\n",
    "Destinations = np.unique(fly)\n",
    "df_flights = pd.DataFrame(index = Destinations)\n",
    "Count = np.zeros(len(Destinations))\n",
    "Delay = np.zeros(len(Destinations))\n",
    "df_flights[\"cnt\"] = Count\n",
    "df_flights[\"Airport\"] = Destinations\n",
    "df_flights[\"Delay\"] = Delay"
   ]
  },
  {
   "cell_type": "code",
   "execution_count": 5,
   "id": "92b89d3f",
   "metadata": {},
   "outputs": [],
   "source": [
    "### Put data into data frame and determine total number of flights and delays\n",
    "for i in range(len(fly)):\n",
    "    for j in range(len(df_flights)):\n",
    "        if fly[i] == df_flights.iloc[j,1]:\n",
    "            df_flights.iloc[j,0] += 1\n",
    "            df_flights.iloc[j,2] += delay[i]"
   ]
  },
  {
   "cell_type": "code",
   "execution_count": 6,
   "id": "b84e9aaf",
   "metadata": {},
   "outputs": [],
   "source": [
    "### Compute the average delay for a city pair\n",
    "df_flights['avg_delay'] = df_flights['Delay']/df_flights['cnt']\n",
    "for i in range(len(df_flights)):\n",
    "    if math.isnan(df_flights.iloc[i,3]):\n",
    "        df_flights.iloc[i,3] = 0"
   ]
  },
  {
   "cell_type": "code",
   "execution_count": 7,
   "id": "1bb47e03",
   "metadata": {},
   "outputs": [
    {
     "name": "stderr",
     "output_type": "stream",
     "text": [
      "C:\\Users\\hugoo\\AppData\\Local\\Temp\\ipykernel_2148\\2386154548.py:16: SettingWithCopyWarning:\n",
      "\n",
      "\n",
      "A value is trying to be set on a copy of a slice from a DataFrame\n",
      "\n",
      "See the caveats in the documentation: https://pandas.pydata.org/pandas-docs/stable/user_guide/indexing.html#returning-a-view-versus-a-copy\n",
      "\n",
      "C:\\Users\\hugoo\\AppData\\Local\\Temp\\ipykernel_2148\\2386154548.py:17: SettingWithCopyWarning:\n",
      "\n",
      "\n",
      "A value is trying to be set on a copy of a slice from a DataFrame\n",
      "\n",
      "See the caveats in the documentation: https://pandas.pydata.org/pandas-docs/stable/user_guide/indexing.html#returning-a-view-versus-a-copy\n",
      "\n",
      "C:\\Users\\hugoo\\AppData\\Local\\Temp\\ipykernel_2148\\2386154548.py:18: SettingWithCopyWarning:\n",
      "\n",
      "\n",
      "A value is trying to be set on a copy of a slice from a DataFrame\n",
      "\n",
      "See the caveats in the documentation: https://pandas.pydata.org/pandas-docs/stable/user_guide/indexing.html#returning-a-view-versus-a-copy\n",
      "\n",
      "C:\\Users\\hugoo\\AppData\\Local\\Temp\\ipykernel_2148\\2386154548.py:20: SettingWithCopyWarning:\n",
      "\n",
      "\n",
      "A value is trying to be set on a copy of a slice from a DataFrame\n",
      "\n",
      "See the caveats in the documentation: https://pandas.pydata.org/pandas-docs/stable/user_guide/indexing.html#returning-a-view-versus-a-copy\n",
      "\n",
      "C:\\Users\\hugoo\\AppData\\Local\\Temp\\ipykernel_2148\\2386154548.py:21: SettingWithCopyWarning:\n",
      "\n",
      "\n",
      "A value is trying to be set on a copy of a slice from a DataFrame\n",
      "\n",
      "See the caveats in the documentation: https://pandas.pydata.org/pandas-docs/stable/user_guide/indexing.html#returning-a-view-versus-a-copy\n",
      "\n"
     ]
    }
   ],
   "source": [
    "### Find the coordinates for the airports\n",
    "df_flights = df_flights.rename(columns={'Airport': 'IATA'})\n",
    "\n",
    "### Add empty columns to the DataFrame\n",
    "df_flights['start'] = Airport\n",
    "df_flights['airport'] = ''\n",
    "df_flights['end_lat'] = ''\n",
    "df_flights['end_lon'] = ''\n",
    "df_flights['start_lat'] = ''\n",
    "df_flights['start_lon'] = ''\n",
    "\n",
    "### Add values to the columns\n",
    "for i in range(len(df_flights)):\n",
    "    for j in range(len(df_airports)):\n",
    "        if df_flights['IATA'][i] == df_airports['IATA_CODE'][j]:\n",
    "            df_flights['airport'][i] = df_airports['AIRPORT'][j]\n",
    "            df_flights['end_lat'][i] = df_airports['LATITUDE'][j]\n",
    "            df_flights['end_lon'][i] = df_airports['LONGITUDE'][j]\n",
    "        if df_flights['start'][i] == df_airports['IATA_CODE'][j]:            \n",
    "            df_flights['start_lat'][i] = df_airports['LATITUDE'][j]\n",
    "            df_flights['start_lon'][i] = df_airports['LONGITUDE'][j]\n",
    "            \n",
    "df_flights_ATL = df_flights"
   ]
  },
  {
   "cell_type": "code",
   "execution_count": 8,
   "id": "016daa49",
   "metadata": {},
   "outputs": [],
   "source": [
    "# Exporting DataFrames to import in the main notebook            \n",
    "df_flights_ATL.to_pickle(\"./flights_ATL\")"
   ]
  },
  {
   "cell_type": "code",
   "execution_count": 9,
   "id": "f51d2ccb",
   "metadata": {},
   "outputs": [],
   "source": [
    "### Find all airports\n",
    "airports = df.ORIGIN_AIRPORT.unique()\n",
    "\n",
    "### Choose Airport ###\n",
    "Airport = \"SEA\"\n",
    "\n",
    "### Find all flights departing or arriving at set airport\n",
    "fly = []\n",
    "delay = []\n",
    "for i in range(len(df)):\n",
    "    if df.ORIGIN_AIRPORT[i] == Airport:\n",
    "        fly.append(df.DESTINATION_AIRPORT[i])\n",
    "        if df.ARRIVAL_DELAY[i]>0:\n",
    "            delay.append(df.ARRIVAL_DELAY[i])\n",
    "        else:\n",
    "            delay.append(0)\n",
    "    if df.DESTINATION_AIRPORT[i] == Airport:\n",
    "        fly.append(df.ORIGIN_AIRPORT[i])\n",
    "        if df.ARRIVAL_DELAY[i]>0:\n",
    "            delay.append(df.ARRIVAL_DELAY[i])\n",
    "        else:\n",
    "            delay.append(0)"
   ]
  },
  {
   "cell_type": "code",
   "execution_count": 10,
   "id": "04408d46",
   "metadata": {},
   "outputs": [],
   "source": [
    "### Set up data frame for information of total number of flights and delays\n",
    "Destinations = np.unique(fly)\n",
    "df_flights = pd.DataFrame(index = Destinations)\n",
    "Count = np.zeros(len(Destinations))\n",
    "Delay = np.zeros(len(Destinations))\n",
    "df_flights[\"cnt\"] = Count\n",
    "df_flights[\"Airport\"] = Destinations\n",
    "df_flights[\"Delay\"] = Delay"
   ]
  },
  {
   "cell_type": "code",
   "execution_count": 11,
   "id": "b2f9530e",
   "metadata": {},
   "outputs": [],
   "source": [
    "### Put data into data frame and determine total number of flights and delays\n",
    "for i in range(len(fly)):\n",
    "    for j in range(len(df_flights)):\n",
    "        if fly[i] == df_flights.iloc[j,1]:\n",
    "            df_flights.iloc[j,0] += 1\n",
    "            df_flights.iloc[j,2] += delay[i]"
   ]
  },
  {
   "cell_type": "code",
   "execution_count": 12,
   "id": "9c29c1c2",
   "metadata": {},
   "outputs": [],
   "source": [
    "### Compute the average delay for a city pair\n",
    "df_flights['avg_delay'] = df_flights['Delay']/df_flights['cnt']\n",
    "for i in range(len(df_flights)):\n",
    "    if math.isnan(df_flights.iloc[i,3]):\n",
    "        df_flights.iloc[i,3] = 0"
   ]
  },
  {
   "cell_type": "code",
   "execution_count": 13,
   "id": "8d590af0",
   "metadata": {},
   "outputs": [
    {
     "name": "stderr",
     "output_type": "stream",
     "text": [
      "C:\\Users\\hugoo\\AppData\\Local\\Temp\\ipykernel_2148\\1431340598.py:16: SettingWithCopyWarning:\n",
      "\n",
      "\n",
      "A value is trying to be set on a copy of a slice from a DataFrame\n",
      "\n",
      "See the caveats in the documentation: https://pandas.pydata.org/pandas-docs/stable/user_guide/indexing.html#returning-a-view-versus-a-copy\n",
      "\n",
      "C:\\Users\\hugoo\\AppData\\Local\\Temp\\ipykernel_2148\\1431340598.py:17: SettingWithCopyWarning:\n",
      "\n",
      "\n",
      "A value is trying to be set on a copy of a slice from a DataFrame\n",
      "\n",
      "See the caveats in the documentation: https://pandas.pydata.org/pandas-docs/stable/user_guide/indexing.html#returning-a-view-versus-a-copy\n",
      "\n",
      "C:\\Users\\hugoo\\AppData\\Local\\Temp\\ipykernel_2148\\1431340598.py:18: SettingWithCopyWarning:\n",
      "\n",
      "\n",
      "A value is trying to be set on a copy of a slice from a DataFrame\n",
      "\n",
      "See the caveats in the documentation: https://pandas.pydata.org/pandas-docs/stable/user_guide/indexing.html#returning-a-view-versus-a-copy\n",
      "\n",
      "C:\\Users\\hugoo\\AppData\\Local\\Temp\\ipykernel_2148\\1431340598.py:20: SettingWithCopyWarning:\n",
      "\n",
      "\n",
      "A value is trying to be set on a copy of a slice from a DataFrame\n",
      "\n",
      "See the caveats in the documentation: https://pandas.pydata.org/pandas-docs/stable/user_guide/indexing.html#returning-a-view-versus-a-copy\n",
      "\n",
      "C:\\Users\\hugoo\\AppData\\Local\\Temp\\ipykernel_2148\\1431340598.py:21: SettingWithCopyWarning:\n",
      "\n",
      "\n",
      "A value is trying to be set on a copy of a slice from a DataFrame\n",
      "\n",
      "See the caveats in the documentation: https://pandas.pydata.org/pandas-docs/stable/user_guide/indexing.html#returning-a-view-versus-a-copy\n",
      "\n"
     ]
    }
   ],
   "source": [
    "### Find the coordinates for the airports\n",
    "df_flights = df_flights.rename(columns={'Airport': 'IATA'})\n",
    "\n",
    "### Add empty columns to the DataFrame\n",
    "df_flights['start'] = Airport\n",
    "df_flights['airport'] = ''\n",
    "df_flights['end_lat'] = ''\n",
    "df_flights['end_lon'] = ''\n",
    "df_flights['start_lat'] = ''\n",
    "df_flights['start_lon'] = ''\n",
    "\n",
    "### Add values to the columns\n",
    "for i in range(len(df_flights)):\n",
    "    for j in range(len(df_airports)):\n",
    "        if df_flights['IATA'][i] == df_airports['IATA_CODE'][j]:\n",
    "            df_flights['airport'][i] = df_airports['AIRPORT'][j]\n",
    "            df_flights['end_lat'][i] = df_airports['LATITUDE'][j]\n",
    "            df_flights['end_lon'][i] = df_airports['LONGITUDE'][j]\n",
    "        if df_flights['start'][i] == df_airports['IATA_CODE'][j]:            \n",
    "            df_flights['start_lat'][i] = df_airports['LATITUDE'][j]\n",
    "            df_flights['start_lon'][i] = df_airports['LONGITUDE'][j]\n",
    "            \n",
    "df_flights_SEA = df_flights"
   ]
  },
  {
   "cell_type": "code",
   "execution_count": 14,
   "id": "338d00d9",
   "metadata": {},
   "outputs": [],
   "source": [
    "# Exporting DataFrames to import in the main notebook            \n",
    "df_flights_SEA.to_pickle(\"./flights_SEA\")"
   ]
  }
 ],
 "metadata": {
  "kernelspec": {
   "display_name": "Python 3 (ipykernel)",
   "language": "python",
   "name": "python3"
  },
  "language_info": {
   "codemirror_mode": {
    "name": "ipython",
    "version": 3
   },
   "file_extension": ".py",
   "mimetype": "text/x-python",
   "name": "python",
   "nbconvert_exporter": "python",
   "pygments_lexer": "ipython3",
   "version": "3.10.4"
  }
 },
 "nbformat": 4,
 "nbformat_minor": 5
}
