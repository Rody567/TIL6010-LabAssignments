{
 "cells": [
  {
   "cell_type": "code",
   "execution_count": 1,
   "id": "c711ec43",
   "metadata": {},
   "outputs": [],
   "source": [
    "import pandas as pd\n",
    "import numpy as np\n",
    "import plotly.io as pio\n",
    "import plotly.express as px\n",
    "import math\n",
    "import pickle"
   ]
  },
  {
   "cell_type": "code",
   "execution_count": 2,
   "id": "d6ab6f45",
   "metadata": {},
   "outputs": [
    {
     "name": "stderr",
     "output_type": "stream",
     "text": [
      "C:\\Users\\hugoo\\AppData\\Local\\Temp\\ipykernel_7640\\2379387243.py:3: DtypeWarning: Columns (7,8) have mixed types. Specify dtype option on import or set low_memory=False.\n",
      "  df = pd.read_csv('flights.csv', parse_dates={\"date\":['YEAR', 'MONTH', 'DAY']}) #Load data per day\n",
      "C:\\Users\\hugoo\\AppData\\Local\\Temp\\ipykernel_7640\\2379387243.py:4: DtypeWarning: Columns (7,8) have mixed types. Specify dtype option on import or set low_memory=False.\n",
      "  dM = pd.read_csv('flights.csv', parse_dates={\"date\":['YEAR', 'MONTH']}) # Load data per month\n",
      "C:\\Users\\hugoo\\AppData\\Local\\Temp\\ipykernel_7640\\2379387243.py:5: DtypeWarning: Columns (7,8) have mixed types. Specify dtype option on import or set low_memory=False.\n",
      "  DY = pd.read_csv(\"flights.csv\", parse_dates={\"date\":[\"YEAR\"]}) #Load data per year\n"
     ]
    }
   ],
   "source": [
    "### Import data\n",
    "#### 'flights.csv' can be downloaded on https://www.kaggle.com/datasets/usdot/flight-delays?select=flights.csv\n",
    "df = pd.read_csv('flights.csv', parse_dates={\"date\":['YEAR', 'MONTH', 'DAY']}) #Load data per day\n",
    "dM = pd.read_csv('flights.csv', parse_dates={\"date\":['YEAR', 'MONTH']}) # Load data per month\n",
    "DY = pd.read_csv(\"flights.csv\", parse_dates={\"date\":[\"YEAR\"]}) #Load data per year"
   ]
  },
  {
   "cell_type": "code",
   "execution_count": 3,
   "id": "91971d4a",
   "metadata": {},
   "outputs": [],
   "source": [
    "df['date'] = df['date'].astype(str) #convert data to be handled\n",
    "df[\"count\"] = np.ones(len(df)) #create extra column\n",
    "dM['date'] = dM['date'].astype(str) #convert data to be handled\n",
    "dM[\"count\"] = np.ones(len(dM)) #create extra column\n",
    "dM['ORIGIN_AIRPORT'] = dM['ORIGIN_AIRPORT'].astype(str) #convert all airport formats to the same type - string\n",
    "DY['date'] = DY['date'].astype(str) #convert data to be handled\n",
    "DY[\"count\"] = np.ones(len(DY)) #create extra column\n",
    "DY['ORIGIN_AIRPORT'] = DY['ORIGIN_AIRPORT'].astype(str) #convert all airport formats to the same type - string"
   ]
  },
  {
   "cell_type": "code",
   "execution_count": 4,
   "id": "fb0298da",
   "metadata": {},
   "outputs": [],
   "source": [
    "#Arrival delay for airline,\n",
    "AL = df.groupby([\"date\", \"AIRLINE\"]).sum().reset_index() #Group data by day and Airline\n",
    "AL[\"ArvCount\"] = AL[\"ARRIVAL_DELAY\"] / AL[\"count\"] # calculate arrival delay per day per Airline\n",
    "AL2 = dM.groupby([\"date\", \"AIRLINE\"]).sum().reset_index() #group data by month and Airline\n",
    "AL2[\"ArvCount\"] = AL2[\"ARRIVAL_DELAY\"] / AL2[\"count\"] #calculate airival delay per month per Airline\n",
    "\n",
    "# Departure delay for airport\n",
    "AP = dM.groupby([\"date\", \"ORIGIN_AIRPORT\"]).sum().reset_index() #Group data by month and Airport\n",
    "AP[\"DepCount\"] = AP[\"DEPARTURE_DELAY\"] / AP[\"count\"] #calculate departure delay per month per Airport\n",
    "YP = DY.groupby([\"date\", \"ORIGIN_AIRPORT\"]).sum().reset_index() #Group data by month and Airport\n",
    "YP[\"DepCount\"] = AP[\"DEPARTURE_DELAY\"] / AP[\"count\"]#calculate departure delay per month per Airport"
   ]
  },
  {
   "cell_type": "code",
   "execution_count": 5,
   "id": "3bab1165",
   "metadata": {},
   "outputs": [
    {
     "name": "stderr",
     "output_type": "stream",
     "text": [
      "C:\\Users\\hugoo\\AppData\\Local\\Temp\\ipykernel_7640\\514335400.py:20: SettingWithCopyWarning: \n",
      "A value is trying to be set on a copy of a slice from a DataFrame\n",
      "\n",
      "See the caveats in the documentation: https://pandas.pydata.org/pandas-docs/stable/user_guide/indexing.html#returning-a-view-versus-a-copy\n",
      "  Months_df[\"Average arrival delay\"][k] = AL2.ArvCount[l]\n"
     ]
    }
   ],
   "source": [
    "# Filling the gaps - Month\n",
    "Month_unique = dM.date.unique() #Setting required inputs\n",
    "Airline_unique = dM.AIRLINE.unique() #Setting required inputs\n",
    "a = []\n",
    "b = []\n",
    "for i in range(len(Month_unique)):\n",
    "    for j in range(len(Airline_unique)):\n",
    "        a.append(Month_unique[i]) #fill list with Months\n",
    "        b.append(Airline_unique[j]) #fill list with Airlines\n",
    "c = np.zeros(len(a)) #All non-existing values will be 0, as they will not be overruled\n",
    "data = {'Date': a,\n",
    "        'Airline': b,\n",
    "       'Average arrival delay': c} #create dictionairy\n",
    "Months_df = pd.DataFrame(data) #convert to DataFrame\n",
    "\n",
    "\n",
    "for k in range(len(Months_df.Date)): #fill the new dataframe with new real data\n",
    "    for l in range(len(AL2.date)):\n",
    "        if Months_df.Date[k]==AL2.date[l] and Months_df.Airline[k]==AL2.AIRLINE[l]:\n",
    "            Months_df[\"Average arrival delay\"][k] = AL2.ArvCount[l]"
   ]
  },
  {
   "cell_type": "code",
   "execution_count": 6,
   "id": "08a27e29",
   "metadata": {},
   "outputs": [
    {
     "name": "stderr",
     "output_type": "stream",
     "text": [
      "C:\\Users\\hugoo\\AppData\\Local\\Temp\\ipykernel_7640\\250150140.py:19: SettingWithCopyWarning: \n",
      "A value is trying to be set on a copy of a slice from a DataFrame\n",
      "\n",
      "See the caveats in the documentation: https://pandas.pydata.org/pandas-docs/stable/user_guide/indexing.html#returning-a-view-versus-a-copy\n",
      "  Days_df[\"Average arrival delay\"][k] = AL.ArvCount[l]\n"
     ]
    }
   ],
   "source": [
    "Days_unique = df.date.unique() #Setting required inputs\n",
    "Airline_unique = df.AIRLINE.unique() #Setting required inputs\n",
    "a = [] #Create new list\n",
    "b = [] #create new list\n",
    "for i in range(len(Days_unique)):\n",
    "    for j in range(len(Airline_unique)):\n",
    "        a.append(Days_unique[i]) #fill list with Days\n",
    "        b.append(Airline_unique[j]) #fill list with airlines\n",
    "c = np.zeros(len(a)) #All non-existing values will be 0, as they will not be overruled\n",
    "data = {'Date': a,\n",
    "        'Airline': b,\n",
    "       'Average arrival delay': c} #create dictionairy\n",
    "Days_df = pd.DataFrame(data) #convert to DataFrame\n",
    "\n",
    "\n",
    "for k in range(len(Days_df.Date)): #fill the new dataframe with new real data\n",
    "    for l in range(len(AL.date)):\n",
    "        if Days_df.Date[k]==AL.date[l] and Days_df.Airline[k]==AL.AIRLINE[l]:\n",
    "            Days_df[\"Average arrival delay\"][k] = AL.ArvCount[l]   "
   ]
  },
  {
   "cell_type": "code",
   "execution_count": 7,
   "id": "d1ee37e6",
   "metadata": {},
   "outputs": [],
   "source": [
    "Months_df.to_pickle(\"./M_Airline.pkl\") #store Dateframe\n",
    "Days_df.to_pickle(\"./D_Airline.pkl\") #store Dataframe"
   ]
  },
  {
   "cell_type": "code",
   "execution_count": 9,
   "id": "65457ea1",
   "metadata": {},
   "outputs": [
    {
     "data": {
      "text/html": [
       "<div>\n",
       "<style scoped>\n",
       "    .dataframe tbody tr th:only-of-type {\n",
       "        vertical-align: middle;\n",
       "    }\n",
       "\n",
       "    .dataframe tbody tr th {\n",
       "        vertical-align: top;\n",
       "    }\n",
       "\n",
       "    .dataframe thead th {\n",
       "        text-align: right;\n",
       "    }\n",
       "</style>\n",
       "<table border=\"1\" class=\"dataframe\">\n",
       "  <thead>\n",
       "    <tr style=\"text-align: right;\">\n",
       "      <th></th>\n",
       "      <th>Average arrival delay</th>\n",
       "    </tr>\n",
       "    <tr>\n",
       "      <th>Airline</th>\n",
       "      <th></th>\n",
       "    </tr>\n",
       "  </thead>\n",
       "  <tbody>\n",
       "    <tr>\n",
       "      <th>AA</th>\n",
       "      <td>4.007417</td>\n",
       "    </tr>\n",
       "    <tr>\n",
       "      <th>AS</th>\n",
       "      <td>-1.017034</td>\n",
       "    </tr>\n",
       "    <tr>\n",
       "      <th>B6</th>\n",
       "      <td>6.590284</td>\n",
       "    </tr>\n",
       "    <tr>\n",
       "      <th>DL</th>\n",
       "      <td>0.214835</td>\n",
       "    </tr>\n",
       "    <tr>\n",
       "      <th>EV</th>\n",
       "      <td>6.307559</td>\n",
       "    </tr>\n",
       "    <tr>\n",
       "      <th>F9</th>\n",
       "      <td>12.893491</td>\n",
       "    </tr>\n",
       "    <tr>\n",
       "      <th>HA</th>\n",
       "      <td>1.984102</td>\n",
       "    </tr>\n",
       "    <tr>\n",
       "      <th>MQ</th>\n",
       "      <td>5.429764</td>\n",
       "    </tr>\n",
       "    <tr>\n",
       "      <th>NK</th>\n",
       "      <td>14.186793</td>\n",
       "    </tr>\n",
       "    <tr>\n",
       "      <th>OO</th>\n",
       "      <td>5.765111</td>\n",
       "    </tr>\n",
       "    <tr>\n",
       "      <th>UA</th>\n",
       "      <td>5.296321</td>\n",
       "    </tr>\n",
       "    <tr>\n",
       "      <th>US</th>\n",
       "      <td>1.833323</td>\n",
       "    </tr>\n",
       "    <tr>\n",
       "      <th>VX</th>\n",
       "      <td>4.655281</td>\n",
       "    </tr>\n",
       "    <tr>\n",
       "      <th>WN</th>\n",
       "      <td>4.198372</td>\n",
       "    </tr>\n",
       "  </tbody>\n",
       "</table>\n",
       "</div>"
      ],
      "text/plain": [
       "         Average arrival delay\n",
       "Airline                       \n",
       "AA                    4.007417\n",
       "AS                   -1.017034\n",
       "B6                    6.590284\n",
       "DL                    0.214835\n",
       "EV                    6.307559\n",
       "F9                   12.893491\n",
       "HA                    1.984102\n",
       "MQ                    5.429764\n",
       "NK                   14.186793\n",
       "OO                    5.765111\n",
       "UA                    5.296321\n",
       "US                    1.833323\n",
       "VX                    4.655281\n",
       "WN                    4.198372"
      ]
     },
     "metadata": {},
     "output_type": "display_data"
    }
   ],
   "source": [
    "Months_Airline = pd.read_pickle(\"./M_Airline.pkl\")\n",
    "AA = Months_Airline.groupby([\"Airline\"]).mean() #average yearly arrival delay\n",
    "display(AA)"
   ]
  },
  {
   "cell_type": "code",
   "execution_count": 10,
   "id": "505bfa24",
   "metadata": {},
   "outputs": [
    {
     "name": "stderr",
     "output_type": "stream",
     "text": [
      "C:\\Users\\hugoo\\AppData\\Local\\Temp\\ipykernel_7640\\524986807.py:20: SettingWithCopyWarning: \n",
      "A value is trying to be set on a copy of a slice from a DataFrame\n",
      "\n",
      "See the caveats in the documentation: https://pandas.pydata.org/pandas-docs/stable/user_guide/indexing.html#returning-a-view-versus-a-copy\n",
      "  Months_DP[\"Average departure delay\"][k] = AP.DepCount[l]\n"
     ]
    }
   ],
   "source": [
    "#Filling the gaps - Month\n",
    "Month_unique = dM.date.unique() #Setting required inputs\n",
    "Airport_unique = dM.ORIGIN_AIRPORT.unique() #Setting required inputs\n",
    "a = []\n",
    "b = []\n",
    "for i in range(len(Month_unique)):\n",
    "    for j in range(len(Airport_unique)):\n",
    "        a.append(Month_unique[i]) #list with months\n",
    "        b.append(Airport_unique[j]) #list with airports\n",
    "c = np.zeros(len(a)) #All non-existing values will be 0, as they will not be overruled within the next loop\n",
    "data = {'Date': a, \n",
    "        'Airport': b,\n",
    "       'Average departure delay': c} #create dictionairy\n",
    "Months_DP = pd.DataFrame(data) #convert to dataframe\n",
    "\n",
    "\n",
    "for k in range(len(Months_DP.Date)): #fill the new dataframe with new real data\n",
    "    for l in range(len(AP.date)):\n",
    "        if Months_DP.Date[k]==AP.date[l] and Months_DP.Airport[k]==AP.ORIGIN_AIRPORT[l]:\n",
    "            Months_DP[\"Average departure delay\"][k] = AP.DepCount[l]"
   ]
  },
  {
   "cell_type": "code",
   "execution_count": 11,
   "id": "3ba34a9c",
   "metadata": {},
   "outputs": [],
   "source": [
    "Months_DP.to_pickle(\"./M_Airport.pkl\")"
   ]
  },
  {
   "cell_type": "code",
   "execution_count": 12,
   "id": "8259f796",
   "metadata": {},
   "outputs": [
    {
     "name": "stderr",
     "output_type": "stream",
     "text": [
      "C:\\Users\\hugoo\\AppData\\Local\\Temp\\ipykernel_7640\\808115557.py:20: SettingWithCopyWarning: \n",
      "A value is trying to be set on a copy of a slice from a DataFrame\n",
      "\n",
      "See the caveats in the documentation: https://pandas.pydata.org/pandas-docs/stable/user_guide/indexing.html#returning-a-view-versus-a-copy\n",
      "  Year_DP[\"Average departure delay\"][k] = YP.DepCount[l]\n"
     ]
    }
   ],
   "source": [
    "#Filling the gaps - Year\n",
    "YEAR_unique = DY.date.unique() #Setting required inputs\n",
    "Airport_unique = DY.ORIGIN_AIRPORT.unique() #Setting required inputs\n",
    "a = []\n",
    "b = []\n",
    "for i in range(1):\n",
    "    for j in range(len(Airport_unique)):\n",
    "        a.append(YEAR_unique[i]) #list with months\n",
    "        b.append(Airport_unique[j]) #list with airports\n",
    "c = np.zeros(len(a)) #All non-existing values will be 0, as they will not be overruled within the next loop\n",
    "data = {'Date': a, \n",
    "        'Airport': b,\n",
    "       'Average departure delay': c} #create dictionairyY\n",
    "Year_DP = pd.DataFrame(data) #convert to dataframe\n",
    "\n",
    "\n",
    "for k in range(len(Year_DP.Date)): #fill the new dataframe with new real data\n",
    "    for l in range(len(YP.date)):\n",
    "        if Year_DP.Date[k]==YP.date[l] and Year_DP.Airport[k]==YP.ORIGIN_AIRPORT[l]:\n",
    "            Year_DP[\"Average departure delay\"][k] = YP.DepCount[l]"
   ]
  },
  {
   "cell_type": "code",
   "execution_count": 13,
   "id": "1bbc7fc4",
   "metadata": {},
   "outputs": [],
   "source": [
    "Year_DP.to_pickle(\"./Y_Airport.pkl\")"
   ]
  },
  {
   "cell_type": "code",
   "execution_count": null,
   "id": "a6a3871e",
   "metadata": {},
   "outputs": [],
   "source": []
  }
 ],
 "metadata": {
  "kernelspec": {
   "display_name": "Python 3 (ipykernel)",
   "language": "python",
   "name": "python3"
  },
  "language_info": {
   "codemirror_mode": {
    "name": "ipython",
    "version": 3
   },
   "file_extension": ".py",
   "mimetype": "text/x-python",
   "name": "python",
   "nbconvert_exporter": "python",
   "pygments_lexer": "ipython3",
   "version": "3.10.4"
  }
 },
 "nbformat": 4,
 "nbformat_minor": 5
}
