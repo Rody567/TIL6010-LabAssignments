{
 "cells": [
  {
   "cell_type": "code",
   "execution_count": 1,
   "id": "c5f8fadb",
   "metadata": {},
   "outputs": [
    {
     "data": {
      "text/html": [
       "        <script type=\"text/javascript\">\n",
       "        window.PlotlyConfig = {MathJaxConfig: 'local'};\n",
       "        if (window.MathJax && window.MathJax.Hub && window.MathJax.Hub.Config) {window.MathJax.Hub.Config({SVG: {font: \"STIX-Web\"}});}\n",
       "        if (typeof require !== 'undefined') {\n",
       "        require.undef(\"plotly\");\n",
       "        requirejs.config({\n",
       "            paths: {\n",
       "                'plotly': ['https://cdn.plot.ly/plotly-2.14.0.min']\n",
       "            }\n",
       "        });\n",
       "        require(['plotly'], function(Plotly) {\n",
       "            window._Plotly = Plotly;\n",
       "        });\n",
       "        }\n",
       "        </script>\n",
       "        "
      ]
     },
     "metadata": {},
     "output_type": "display_data"
    }
   ],
   "source": [
    "### Import of packages\n",
    "%matplotlib notebook\n",
    "\n",
    "import matplotlib.pyplot as plt\n",
    "import pandas as pd\n",
    "import plotly.express as px\n",
    "import plotly.graph_objects as go\n",
    "import numpy as np\n",
    "from geopy.geocoders import Nominatim\n",
    "from plotly.subplots import make_subplots\n",
    "import matplotlib as mpl\n",
    "import calmap\n",
    "import calplot\n",
    "from urllib.request import urlopen\n",
    "from plotly.offline import init_notebook_mode\n",
    "import json\n",
    "import itertools\n",
    "import plotly.io as pio\n",
    "import geopandas as gpd\n",
    "init_notebook_mode(connected=True)\n",
    "pio.renderers.default = \"plotly_mimetype+notebook\""
   ]
  },
  {
   "cell_type": "code",
   "execution_count": 2,
   "id": "8e94b7f6",
   "metadata": {},
   "outputs": [
    {
     "name": "stderr",
     "output_type": "stream",
     "text": [
      "C:\\Users\\hugoo\\AppData\\Local\\Temp\\ipykernel_5932\\3736060882.py:3: DtypeWarning:\n",
      "\n",
      "Columns (7,8) have mixed types. Specify dtype option on import or set low_memory=False.\n",
      "\n"
     ]
    }
   ],
   "source": [
    "### Import data\n",
    "#### 'flights.csv' can be downloaded on https://www.kaggle.com/datasets/usdot/flight-delays?select=flights.csv\n",
    "df_flights = pd.read_csv('flights.csv')\n",
    "df_airports = pd.read_csv('https://raw.githubusercontent.com/Rody567/TIL6022-LabAssignments/main/Project/Data/airports.csv')\n",
    "### Make sample data to decrease running times of notebook\n",
    "Sample_Data = df_flights.sample(n=200000, random_state=1)"
   ]
  },
  {
   "cell_type": "code",
   "execution_count": 3,
   "id": "454e653b",
   "metadata": {},
   "outputs": [
    {
     "name": "stderr",
     "output_type": "stream",
     "text": [
      "C:\\Users\\hugoo\\AppData\\Local\\Temp\\ipykernel_5932\\2029083023.py:15: SettingWithCopyWarning:\n",
      "\n",
      "\n",
      "A value is trying to be set on a copy of a slice from a DataFrame\n",
      "\n",
      "See the caveats in the documentation: https://pandas.pydata.org/pandas-docs/stable/user_guide/indexing.html#returning-a-view-versus-a-copy\n",
      "\n",
      "C:\\Users\\hugoo\\AppData\\Local\\Temp\\ipykernel_5932\\2029083023.py:16: SettingWithCopyWarning:\n",
      "\n",
      "\n",
      "A value is trying to be set on a copy of a slice from a DataFrame\n",
      "\n",
      "See the caveats in the documentation: https://pandas.pydata.org/pandas-docs/stable/user_guide/indexing.html#returning-a-view-versus-a-copy\n",
      "\n",
      "C:\\Users\\hugoo\\AppData\\Local\\Temp\\ipykernel_5932\\2029083023.py:12: SettingWithCopyWarning:\n",
      "\n",
      "\n",
      "A value is trying to be set on a copy of a slice from a DataFrame\n",
      "\n",
      "See the caveats in the documentation: https://pandas.pydata.org/pandas-docs/stable/user_guide/indexing.html#returning-a-view-versus-a-copy\n",
      "\n",
      "C:\\Users\\hugoo\\AppData\\Local\\Temp\\ipykernel_5932\\2029083023.py:13: SettingWithCopyWarning:\n",
      "\n",
      "\n",
      "A value is trying to be set on a copy of a slice from a DataFrame\n",
      "\n",
      "See the caveats in the documentation: https://pandas.pydata.org/pandas-docs/stable/user_guide/indexing.html#returning-a-view-versus-a-copy\n",
      "\n",
      "C:\\Users\\hugoo\\AppData\\Local\\Temp\\ipykernel_5932\\2029083023.py:9: SettingWithCopyWarning:\n",
      "\n",
      "\n",
      "A value is trying to be set on a copy of a slice from a DataFrame\n",
      "\n",
      "See the caveats in the documentation: https://pandas.pydata.org/pandas-docs/stable/user_guide/indexing.html#returning-a-view-versus-a-copy\n",
      "\n",
      "C:\\Users\\hugoo\\AppData\\Local\\Temp\\ipykernel_5932\\2029083023.py:10: SettingWithCopyWarning:\n",
      "\n",
      "\n",
      "A value is trying to be set on a copy of a slice from a DataFrame\n",
      "\n",
      "See the caveats in the documentation: https://pandas.pydata.org/pandas-docs/stable/user_guide/indexing.html#returning-a-view-versus-a-copy\n",
      "\n"
     ]
    }
   ],
   "source": [
    "### Create new columns for magnitude of delay, \n",
    "### one where delays are made 0 when a flight has a negative delay \n",
    "### and one where it is indicated if a delay is bigger than 15 minutes\n",
    "Sample_Data['DEP_DELAY_POS'] = ''\n",
    "Sample_Data['DEP_DELAY_over15'] = ''\n",
    "\n",
    "for i in range(len(Sample_Data)):\n",
    "    if Sample_Data.DEPARTURE_DELAY.iloc[i] < 0:\n",
    "        Sample_Data.DEP_DELAY_POS.iloc[i] = 0\n",
    "        Sample_Data.DEP_DELAY_over15.iloc[i] = 0\n",
    "    elif Sample_Data.DEPARTURE_DELAY.iloc[i] >= 15:\n",
    "        Sample_Data.DEP_DELAY_POS.iloc[i] = Sample_Data.DEPARTURE_DELAY.iloc[i]\n",
    "        Sample_Data.DEP_DELAY_over15.iloc[i] = 1\n",
    "    else:\n",
    "        Sample_Data.DEP_DELAY_POS.iloc[i] = Sample_Data.DEPARTURE_DELAY.iloc[i]\n",
    "        Sample_Data.DEP_DELAY_over15.iloc[i] = 0"
   ]
  },
  {
   "cell_type": "code",
   "execution_count": 4,
   "id": "4320ea42",
   "metadata": {},
   "outputs": [],
   "source": [
    "### Convert day of the week into ordered categorical\n",
    "def make_categorical(col, categories_ordered):\n",
    "    variables_ordered = pd.api.types.CategoricalDtype(ordered = True, categories = categories_ordered)\n",
    "    Sample_Data[col] = Sample_Data[col].astype(variables_ordered)\n",
    "\n",
    "col = \"DAY_OF_WEEK\"\n",
    "categories_ordered = ['Monday', 'Tuesday', 'Wednesday', 'Thursday', 'Friday', \"Saturday\", 'Sunday']\n",
    "Sample_Data[col] = Sample_Data[col].astype(str)\n",
    "day_of_week_dict = {'1': 'Monday', '2' : \"Tuesday\", '3': 'Wednesday',\n",
    "               '4': 'Thursday', '5': 'Friday', '6': 'Saturday',\n",
    "               '7': 'Sunday'}\n",
    "Sample_Data[col] = Sample_Data[col].replace(day_of_week_dict)\n",
    "make_categorical(col, categories_ordered)\n",
    "\n",
    "### Convert DEP_DELAY_over15 to string and rename them to be descriptive\n",
    "Sample_Data['DEP_DELAY_over15'] = Sample_Data['DEP_DELAY_over15'].astype(str)\n",
    "delay_dict = {'0.0': '< 15 min', '1.0' : \">= 15 min\"}\n",
    "Sample_Data['DEP_DELAY_over15'] = Sample_Data['DEP_DELAY_over15'].replace(delay_dict)\n",
    "\n",
    "### Convert CANCELLATION_CODE to the meaning of the cancellation\n",
    "col = \"CANCELLATION_REASON\"\n",
    "cancellation_reason_dict = {'A': 'carrier', 'B' : \"weather\", 'C': 'NAS',\n",
    "               'D': 'security'}\n",
    "Sample_Data[col] = Sample_Data[col].replace(cancellation_reason_dict)\n",
    "\n",
    "### Convert DEP_TIME and ARR_TIME from string to date\n",
    "def make_datetime_from_float(col):    \n",
    "    Sample_Data[col] = pd.to_datetime(Sample_Data[col], format='%H%M', errors = 'coerce').dt.time\n",
    "    \n",
    "make_datetime_from_float('DEPARTURE_TIME')\n",
    "make_datetime_from_float('SCHEDULED_ARRIVAL')"
   ]
  },
  {
   "cell_type": "code",
   "execution_count": 5,
   "id": "e298ac1d",
   "metadata": {},
   "outputs": [],
   "source": [
    "# Exporting DataFrames to import in the main notebook            \n",
    "Sample_Data.to_pickle(\"./sample_data\")"
   ]
  },
  {
   "cell_type": "code",
   "execution_count": 6,
   "id": "001ba620",
   "metadata": {},
   "outputs": [],
   "source": [
    "### Create list of all flights with delay larger than 6 hours\n",
    "airports = df_flights.ORIGIN_AIRPORT.unique()\n",
    "\n",
    "origin1 = []\n",
    "destination1 = []\n",
    "for i in range(len(df_flights)):\n",
    "    if df_flights.ARRIVAL_DELAY[i] >= 6*60:\n",
    "        origin1.append(df_flights.ORIGIN_AIRPORT[i])\n",
    "        destination1.append(df_flights.DESTINATION_AIRPORT[i])\n",
    "                                                  \n",
    "### Create list of all flights with delay larger than 24 hours\n",
    "origin2 = []\n",
    "destination2 = []\n",
    "for i in range(len(df_flights)):\n",
    "    if df_flights.ARRIVAL_DELAY[i] >= 24*60:\n",
    "        origin2.append(df_flights.ORIGIN_AIRPORT[i])\n",
    "        destination2.append(df_flights.DESTINATION_AIRPORT[i])"
   ]
  },
  {
   "cell_type": "code",
   "execution_count": 7,
   "id": "26c5c4d5",
   "metadata": {},
   "outputs": [],
   "source": [
    "### Create data frames\n",
    "df_flights_6hours = pd.DataFrame(index = origin1)\n",
    "df_flights_6hours[\"Origin\"] = origin1\n",
    "df_flights_6hours[\"Destination\"] = destination1\n",
    "\n",
    "df_flights_24hours = pd.DataFrame(index = origin2)\n",
    "df_flights_24hours[\"Origin\"] = origin2\n",
    "df_flights_24hours[\"Destination\"] = destination2"
   ]
  },
  {
   "cell_type": "code",
   "execution_count": 8,
   "id": "176e06ae",
   "metadata": {},
   "outputs": [
    {
     "name": "stderr",
     "output_type": "stream",
     "text": [
      "C:\\Users\\hugoo\\AppData\\Local\\Temp\\ipykernel_5932\\1005919128.py:23: FutureWarning:\n",
      "\n",
      "Treating integers as positional in Series.__setitem__ with a Float64Index is deprecated. In a future version, `series[an_int] = val` will insert a new key into the Series. Use `series.iloc[an_int] = val` to treat the key as positional.\n",
      "\n",
      "C:\\Users\\hugoo\\AppData\\Local\\Temp\\ipykernel_5932\\1005919128.py:24: FutureWarning:\n",
      "\n",
      "Treating integers as positional in Series.__setitem__ with a Float64Index is deprecated. In a future version, `series[an_int] = val` will insert a new key into the Series. Use `series.iloc[an_int] = val` to treat the key as positional.\n",
      "\n",
      "C:\\Users\\hugoo\\AppData\\Local\\Temp\\ipykernel_5932\\1005919128.py:26: FutureWarning:\n",
      "\n",
      "Treating integers as positional in Series.__setitem__ with a Float64Index is deprecated. In a future version, `series[an_int] = val` will insert a new key into the Series. Use `series.iloc[an_int] = val` to treat the key as positional.\n",
      "\n",
      "C:\\Users\\hugoo\\AppData\\Local\\Temp\\ipykernel_5932\\1005919128.py:27: FutureWarning:\n",
      "\n",
      "Treating integers as positional in Series.__setitem__ with a Float64Index is deprecated. In a future version, `series[an_int] = val` will insert a new key into the Series. Use `series.iloc[an_int] = val` to treat the key as positional.\n",
      "\n",
      "C:\\Users\\hugoo\\AppData\\Local\\Temp\\ipykernel_5932\\1005919128.py:35: FutureWarning:\n",
      "\n",
      "Treating integers as positional in Series.__setitem__ with a Float64Index is deprecated. In a future version, `series[an_int] = val` will insert a new key into the Series. Use `series.iloc[an_int] = val` to treat the key as positional.\n",
      "\n",
      "C:\\Users\\hugoo\\AppData\\Local\\Temp\\ipykernel_5932\\1005919128.py:36: FutureWarning:\n",
      "\n",
      "Treating integers as positional in Series.__setitem__ with a Float64Index is deprecated. In a future version, `series[an_int] = val` will insert a new key into the Series. Use `series.iloc[an_int] = val` to treat the key as positional.\n",
      "\n",
      "C:\\Users\\hugoo\\AppData\\Local\\Temp\\ipykernel_5932\\1005919128.py:32: FutureWarning:\n",
      "\n",
      "Treating integers as positional in Series.__setitem__ with a Float64Index is deprecated. In a future version, `series[an_int] = val` will insert a new key into the Series. Use `series.iloc[an_int] = val` to treat the key as positional.\n",
      "\n",
      "C:\\Users\\hugoo\\AppData\\Local\\Temp\\ipykernel_5932\\1005919128.py:33: FutureWarning:\n",
      "\n",
      "Treating integers as positional in Series.__setitem__ with a Float64Index is deprecated. In a future version, `series[an_int] = val` will insert a new key into the Series. Use `series.iloc[an_int] = val` to treat the key as positional.\n",
      "\n"
     ]
    }
   ],
   "source": [
    "### Find coordinates of airport pairs\n",
    "df_flights_6hours = df_flights_6hours.rename(columns={'Origin': 'IATA1'})\n",
    "df_flights_6hours = df_flights_6hours.rename(columns={'Destination': 'IATA2'})\n",
    "\n",
    "df_flights_24hours = df_flights_24hours.rename(columns={'Origin': 'IATA1'})\n",
    "df_flights_24hours = df_flights_24hours.rename(columns={'Destination': 'IATA2'})\n",
    "\n",
    "### Add empty columns to the DataFrame\n",
    "df_flights_6hours['end_lat'] = ''\n",
    "df_flights_6hours['end_lon'] = ''\n",
    "df_flights_6hours['start_lat'] = ''\n",
    "df_flights_6hours['start_lon'] = ''\n",
    "\n",
    "df_flights_24hours['end_lat'] = ''\n",
    "df_flights_24hours['end_lon'] = ''\n",
    "df_flights_24hours['start_lat'] = ''\n",
    "df_flights_24hours['start_lon'] = ''\n",
    "\n",
    "### Add values to the columns\n",
    "for i in range(len(df_flights_6hours)):\n",
    "    for j in range(len(df_airports)):\n",
    "        if df_flights_6hours.iloc[i,1] == df_airports['IATA_CODE'][j]:\n",
    "            df_flights_6hours['end_lat'][i] = df_airports['LATITUDE'][j]\n",
    "            df_flights_6hours['end_lon'][i] = df_airports['LONGITUDE'][j]\n",
    "        if df_flights_6hours.iloc[i,0] == df_airports['IATA_CODE'][j]:            \n",
    "            df_flights_6hours['start_lat'][i] = df_airports['LATITUDE'][j]\n",
    "            df_flights_6hours['start_lon'][i] = df_airports['LONGITUDE'][j]\n",
    "            \n",
    "for i in range(len(df_flights_24hours)):\n",
    "    for j in range(len(df_airports)):\n",
    "        if df_flights_24hours.iloc[i,1] == df_airports['IATA_CODE'][j]:\n",
    "            df_flights_24hours['end_lat'][i] = df_airports['LATITUDE'][j]\n",
    "            df_flights_24hours['end_lon'][i] = df_airports['LONGITUDE'][j]\n",
    "        if df_flights_24hours.iloc[i,0] == df_airports['IATA_CODE'][j]:            \n",
    "            df_flights_24hours['start_lat'][i] = df_airports['LATITUDE'][j]\n",
    "            df_flights_24hours['start_lon'][i] = df_airports['LONGITUDE'][j]"
   ]
  },
  {
   "cell_type": "code",
   "execution_count": 9,
   "id": "cfc0d998",
   "metadata": {},
   "outputs": [],
   "source": [
    "# Exporting DataFrames to import in the main notebook            \n",
    "df_airports.to_pickle(\"./airports\")\n",
    "df_flights_6hours.to_pickle(\"./flights_6hours\")\n",
    "df_flights_24hours.to_pickle(\"./flights_24hours\")"
   ]
  },
  {
   "cell_type": "code",
   "execution_count": null,
   "id": "52434067",
   "metadata": {},
   "outputs": [],
   "source": []
  }
 ],
 "metadata": {
  "kernelspec": {
   "display_name": "Python 3 (ipykernel)",
   "language": "python",
   "name": "python3"
  },
  "language_info": {
   "codemirror_mode": {
    "name": "ipython",
    "version": 3
   },
   "file_extension": ".py",
   "mimetype": "text/x-python",
   "name": "python",
   "nbconvert_exporter": "python",
   "pygments_lexer": "ipython3",
   "version": "3.10.4"
  }
 },
 "nbformat": 4,
 "nbformat_minor": 5
}
