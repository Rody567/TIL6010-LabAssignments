{
 "cells": [
  {
   "cell_type": "code",
   "execution_count": 1,
   "id": "ec8fcdc1",
   "metadata": {},
   "outputs": [],
   "source": [
    "### Import of packages\n",
    "%matplotlib notebook\n",
    "\n",
    "import matplotlib.pyplot as plt\n",
    "import pandas as pd\n",
    "import plotly.express as px\n",
    "import plotly.graph_objects as go\n",
    "import numpy as np\n",
    "from geopy.geocoders import Nominatim\n",
    "from plotly.subplots import make_subplots\n",
    "import matplotlib as mpl\n",
    "import calmap\n",
    "import calplot"
   ]
  },
  {
   "cell_type": "code",
   "execution_count": 2,
   "id": "3b6ba554",
   "metadata": {},
   "outputs": [],
   "source": [
    "### Installation of packages\n",
    "#pip install geopy\n",
    "#pip install calmap\n",
    "#pip install calplot"
   ]
  },
  {
   "cell_type": "code",
   "execution_count": 3,
   "id": "d4e577d3",
   "metadata": {},
   "outputs": [
    {
     "name": "stderr",
     "output_type": "stream",
     "text": [
      "C:\\Users\\hugoo\\AppData\\Local\\Temp\\ipykernel_21656\\3246569282.py:3: DtypeWarning: Columns (7,8) have mixed types. Specify dtype option on import or set low_memory=False.\n",
      "  df_flights = pd.read_csv('flights.csv', parse_dates={\"date\":['YEAR', 'MONTH', 'DAY']})\n"
     ]
    }
   ],
   "source": [
    "### Import data\n",
    "#### 'flights.csv' can be downloaded on https://www.kaggle.com/datasets/usdot/flight-delays?select=flights.csv\n",
    "df_flights = pd.read_csv('flights.csv', parse_dates={\"date\":['YEAR', 'MONTH', 'DAY']})\n",
    "df_weather = pd.read_csv('https://raw.githubusercontent.com/Rody567/TIL6022-LabAssignments/main/Project/Data/Weather-data.csv', \n",
    "                   parse_dates=[0], index_col='airport')"
   ]
  },
  {
   "cell_type": "code",
   "execution_count": 4,
   "id": "3222a936",
   "metadata": {},
   "outputs": [],
   "source": [
    "### Create new column\n",
    "df_weather[\"date\"] = df_weather[\"date\"].dt.date"
   ]
  },
  {
   "cell_type": "code",
   "execution_count": 5,
   "id": "4a90ec48",
   "metadata": {},
   "outputs": [
    {
     "name": "stderr",
     "output_type": "stream",
     "text": [
      "C:\\Users\\hugoo\\AppData\\Local\\Temp\\ipykernel_21656\\1529294414.py:27: SettingWithCopyWarning: \n",
      "A value is trying to be set on a copy of a slice from a DataFrame\n",
      "\n",
      "See the caveats in the documentation: https://pandas.pydata.org/pandas-docs/stable/user_guide/indexing.html#returning-a-view-versus-a-copy\n",
      "  df_location.lat[i] = airports_info[j].latitude\n",
      "C:\\Users\\hugoo\\AppData\\Local\\Temp\\ipykernel_21656\\1529294414.py:28: SettingWithCopyWarning: \n",
      "A value is trying to be set on a copy of a slice from a DataFrame\n",
      "\n",
      "See the caveats in the documentation: https://pandas.pydata.org/pandas-docs/stable/user_guide/indexing.html#returning-a-view-versus-a-copy\n",
      "  df_location.lon[i] = airports_info[j].longitude\n"
     ]
    }
   ],
   "source": [
    "### Find coordinates of weather stations\n",
    "df_location = df_weather\n",
    "df_location['lat'] = np.zeros(len(df_location))\n",
    "df_location['lon'] = np.zeros(len(df_location))\n",
    "\n",
    "df_location.actual_precipitation = df_location.actual_precipitation + 0.01\n",
    "\n",
    "geolocator = Nominatim(user_agent=\"MyApp\")\n",
    "\n",
    "SEA = geolocator.geocode(\"Seattle\")\n",
    "HOU = geolocator.geocode(\"Houston\")\n",
    "PHX = geolocator.geocode(\"Phoenix\")\n",
    "CLT = geolocator.geocode(\"Charlotte\")\n",
    "MDW = geolocator.geocode(\"Chicago\")\n",
    "NYC = geolocator.geocode(\"New York\")\n",
    "PHL = geolocator.geocode(\"Philadelphia\")\n",
    "CQT = geolocator.geocode(\"Los Angeles\")\n",
    "JAX = geolocator.geocode(\"Jacksonville\")\n",
    "IND = geolocator.geocode(\"Indianapolis\")\n",
    "\n",
    "airports = list(set(df_weather.index))\n",
    "airports_info = [SEA, HOU, PHX, CLT, MDW, NYC, PHL, CQT, JAX, IND]\n",
    "\n",
    "for i in range(len(df_weather)):\n",
    "    for j in range(len(airports)):\n",
    "        if df_location.index[i] == airports[j]:\n",
    "            df_location.lat[i] = airports_info[j].latitude\n",
    "            df_location.lon[i] = airports_info[j].longitude\n",
    "\n",
    "# Exporting DataFrames to import in the main notebook            \n",
    "df_location.to_pickle(\"./weather_location\")"
   ]
  },
  {
   "cell_type": "code",
   "execution_count": 6,
   "id": "75f878c4",
   "metadata": {},
   "outputs": [],
   "source": [
    "### Find data for specific weather station\n",
    "df_KSEA = df_weather.loc['KSEA']\n",
    "df_KHOU = df_weather.loc['KHOU']\n",
    "\n",
    "# Exporting DataFrames to import in the main notebook            \n",
    "df_KSEA.to_pickle(\"./weather_KSEA\")\n",
    "df_KHOU.to_pickle(\"./weather_KHOU\")"
   ]
  },
  {
   "cell_type": "code",
   "execution_count": 7,
   "id": "b4903f5d",
   "metadata": {},
   "outputs": [
    {
     "name": "stderr",
     "output_type": "stream",
     "text": [
      "C:\\Users\\hugoo\\AppData\\Local\\Temp\\ipykernel_21656\\2235144730.py:30: SettingWithCopyWarning: \n",
      "A value is trying to be set on a copy of a slice from a DataFrame\n",
      "\n",
      "See the caveats in the documentation: https://pandas.pydata.org/pandas-docs/stable/user_guide/indexing.html#returning-a-view-versus-a-copy\n",
      "  df2_SEA.Rainfall[i] = df_KSEA.actual_precipitation[i]\n"
     ]
    }
   ],
   "source": [
    "### Find total flights from Seattle per day\n",
    "Airport = \"SEA\"\n",
    "df_flights['date'] = df_flights['date'].astype(str)\n",
    "delay = []\n",
    "for i in range(len(df_flights)):\n",
    "    if df_flights.ORIGIN_AIRPORT[i] == Airport:\n",
    "        if df_flights.ARRIVAL_DELAY[i] > 0:\n",
    "            delay.append([df_flights.date[i], df_flights.ARRIVAL_DELAY[i]])\n",
    "        else:\n",
    "            delay.append([df_flights.date[i], 0])\n",
    "            \n",
    "### Find total delay for Seattle per day\n",
    "dates = df_flights['date'].unique()\n",
    "df2_SEA = pd.DataFrame(index = dates)\n",
    "\n",
    "df2_SEA['Total_Delay'] = 0\n",
    "df2_SEA['Flights'] = 0\n",
    "\n",
    "for i in range(len(df2_SEA)):\n",
    "    for j in range(len(delay)):\n",
    "        if df2_SEA.index[i] == delay[j][0]:\n",
    "            df2_SEA.Total_Delay[i] += delay[j][1]\n",
    "            df2_SEA.Flights[i] += 1\n",
    "            \n",
    "df2_SEA['Average_Delay'] = df2_SEA['Total_Delay'] / df2_SEA['Flights']\n",
    "\n",
    "### Find rainfall per day for Seattle\n",
    "df2_SEA['Rainfall'] = ' '\n",
    "for i in range(len(df_KSEA)):\n",
    "    df2_SEA.Rainfall[i] = df_KSEA.actual_precipitation[i]\n",
    "df3_SEA = df2_SEA.iloc[0:len(df_KSEA)]"
   ]
  },
  {
   "cell_type": "code",
   "execution_count": 8,
   "id": "c4cf7b26",
   "metadata": {},
   "outputs": [
    {
     "name": "stderr",
     "output_type": "stream",
     "text": [
      "C:\\Users\\hugoo\\AppData\\Local\\Temp\\ipykernel_21656\\279405755.py:30: SettingWithCopyWarning: \n",
      "A value is trying to be set on a copy of a slice from a DataFrame\n",
      "\n",
      "See the caveats in the documentation: https://pandas.pydata.org/pandas-docs/stable/user_guide/indexing.html#returning-a-view-versus-a-copy\n",
      "  df2_HOU.Rainfall[i] = df_KHOU.actual_precipitation[i]\n"
     ]
    }
   ],
   "source": [
    "### Find total flights from Houston per day\n",
    "Airport = \"HOU\"\n",
    "df_flights['date'] = df_flights['date'].astype(str)\n",
    "delay = []\n",
    "for i in range(len(df_flights)):\n",
    "    if df_flights.ORIGIN_AIRPORT[i] == Airport:\n",
    "        if df_flights.ARRIVAL_DELAY[i] > 0:\n",
    "            delay.append([df_flights.date[i], df_flights.ARRIVAL_DELAY[i]])\n",
    "        else:\n",
    "            delay.append([df_flights.date[i], 0])\n",
    "            \n",
    "### Find total delay for Houston per day\n",
    "dates = df_flights['date'].unique()\n",
    "df2_HOU = pd.DataFrame(index = dates)\n",
    "\n",
    "df2_HOU['Total_Delay'] = 0\n",
    "df2_HOU['Flights'] = 0\n",
    "\n",
    "for i in range(len(df2_HOU)):\n",
    "    for j in range(len(delay)):\n",
    "        if df2_HOU.index[i] == delay[j][0]:\n",
    "            df2_HOU.Total_Delay[i] += delay[j][1]\n",
    "            df2_HOU.Flights[i] += 1\n",
    "            \n",
    "df2_HOU['Average_Delay'] = df2_HOU['Total_Delay'] / df2_HOU['Flights']\n",
    "\n",
    "### Find rainfall per day for Houston\n",
    "df2_HOU['Rainfall'] = ' '\n",
    "for i in range(len(df_KHOU)):\n",
    "    df2_HOU.Rainfall[i] = df_KHOU.actual_precipitation[i]\n",
    "df3_HOU = df2_HOU.iloc[0:len(df_KHOU)]"
   ]
  },
  {
   "cell_type": "code",
   "execution_count": 9,
   "id": "f0c596b2",
   "metadata": {},
   "outputs": [],
   "source": [
    "### Colour code for delay at Houston Airport over the year\n",
    "all_days = pd.date_range('1/1/2015', periods = 365, freq='D')\n",
    "df4_HOU = pd.Series(df2_HOU.Average_Delay, index = all_days)\n",
    "for i in range(len(df4_HOU)):\n",
    "    df4_HOU[i] = df2_HOU.Average_Delay.iloc[i]"
   ]
  },
  {
   "cell_type": "code",
   "execution_count": 10,
   "id": "6ed92c23",
   "metadata": {},
   "outputs": [],
   "source": [
    "# Exporting DataFrames to import in the main notebook            \n",
    "df3_SEA.to_pickle(\"./weather_df3SEA\")\n",
    "df2_HOU.to_pickle(\"./weather_df2HOU\")\n",
    "df3_HOU.to_pickle(\"./weather_df3HOU\")\n",
    "df4_HOU.to_pickle(\"./weather_df4HOU\")"
   ]
  },
  {
   "cell_type": "code",
   "execution_count": null,
   "id": "44bd1e07",
   "metadata": {},
   "outputs": [],
   "source": []
  }
 ],
 "metadata": {
  "kernelspec": {
   "display_name": "Python 3 (ipykernel)",
   "language": "python",
   "name": "python3"
  },
  "language_info": {
   "codemirror_mode": {
    "name": "ipython",
    "version": 3
   },
   "file_extension": ".py",
   "mimetype": "text/x-python",
   "name": "python",
   "nbconvert_exporter": "python",
   "pygments_lexer": "ipython3",
   "version": "3.10.4"
  }
 },
 "nbformat": 4,
 "nbformat_minor": 5
}
