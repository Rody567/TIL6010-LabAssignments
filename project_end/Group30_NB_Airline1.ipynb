{
 "cells": [
  {
   "cell_type": "code",
   "execution_count": 1,
   "id": "61b63adb",
   "metadata": {},
   "outputs": [],
   "source": [
    "### Import packages\n",
    "import pandas as pd\n",
    "import numpy as np\n",
    "import plotly.io as pio\n",
    "import plotly.express as px\n",
    "import math\n",
    "import matplotlib.pyplot as plt"
   ]
  },
  {
   "cell_type": "code",
   "execution_count": 2,
   "id": "034a26a9",
   "metadata": {},
   "outputs": [
    {
     "name": "stderr",
     "output_type": "stream",
     "text": [
      "C:\\Users\\hugoo\\AppData\\Local\\Temp\\ipykernel_15100\\351695972.py:2: DtypeWarning: Columns (7,8) have mixed types. Specify dtype option on import or set low_memory=False.\n",
      "  df = pd.read_csv('flights.csv', parse_dates={\"date\":['YEAR', 'MONTH', 'DAY']})\n"
     ]
    }
   ],
   "source": [
    "### Import data\n",
    "df = pd.read_csv('flights.csv', parse_dates={\"date\":['YEAR', 'MONTH', 'DAY']})\n",
    "Airlines = pd.read_csv('https://raw.githubusercontent.com/Rody567/TIL6022-LabAssignments/main/Project/Data/airlines.csv')"
   ]
  },
  {
   "cell_type": "code",
   "execution_count": 3,
   "id": "84e4b063",
   "metadata": {},
   "outputs": [],
   "source": [
    "### Data conversion\n",
    "df['date'] = df['date'].astype(str)\n",
    "\n",
    "### Re-arranging the delays of airlines\n",
    "Delay_Airline = df.groupby([\"date\", \"AIRLINE\"]).sum().reset_index()"
   ]
  },
  {
   "cell_type": "code",
   "execution_count": 4,
   "id": "32612737",
   "metadata": {},
   "outputs": [
    {
     "name": "stderr",
     "output_type": "stream",
     "text": [
      "C:\\Users\\hugoo\\AppData\\Local\\Temp\\ipykernel_15100\\1782758191.py:7: SettingWithCopyWarning: \n",
      "A value is trying to be set on a copy of a slice from a DataFrame\n",
      "\n",
      "See the caveats in the documentation: https://pandas.pydata.org/pandas-docs/stable/user_guide/indexing.html#returning-a-view-versus-a-copy\n",
      "  df_Airline.Airline.iloc[i] = Delay_Airline.AIRLINE.unique()[i]\n"
     ]
    }
   ],
   "source": [
    "### Finding the total delay of an airline for a whole year\n",
    "df_Airline = pd.DataFrame(index = Delay_Airline.AIRLINE.unique())\n",
    "df_Airline['Airline'] = ' '\n",
    "df_Airline['Average_Delay'] = 0\n",
    "\n",
    "for i in range(len(df_Airline)):\n",
    "    df_Airline.Airline.iloc[i] = Delay_Airline.AIRLINE.unique()[i]\n",
    "for i in range(len(Delay_Airline)):\n",
    "    for j in range(len(df_Airline)):\n",
    "        if Delay_Airline.AIRLINE.iloc[i] == df_Airline.iloc[j,0]:\n",
    "            if Delay_Airline.ARRIVAL_DELAY.iloc[i] > 0:\n",
    "                df_Airline.iloc[j,1] += Delay_Airline.ARRIVAL_DELAY.iloc[i]"
   ]
  },
  {
   "cell_type": "code",
   "execution_count": 5,
   "id": "5422728d",
   "metadata": {},
   "outputs": [],
   "source": [
    "### Finding the names of the airlines instead of the codes\n",
    "Airline_Name = []\n",
    "for i in range(len(df_Airline['Airline'])):\n",
    "    for j in range(len(df_Airline['Airline'])):\n",
    "        if df_Airline['Airline'].iloc[i] == Airlines.IATA_CODE.iloc[j]:\n",
    "            Airline_Name.append(Airlines.AIRLINE.iloc[i])\n",
    "df_airline_names = pd.DataFrame(Airline_Name)"
   ]
  },
  {
   "cell_type": "code",
   "execution_count": 6,
   "id": "6193732d",
   "metadata": {},
   "outputs": [],
   "source": [
    "# Exporting DataFrames to import in the main notebook            \n",
    "df_airline_names.to_pickle(\"./Airline_Name\")\n",
    "df_Airline.to_pickle(\"./df_Airline\")\n",
    "Delay_Airline.to_pickle(\"./Delay_Airline\")"
   ]
  },
  {
   "cell_type": "code",
   "execution_count": null,
   "id": "62516015",
   "metadata": {},
   "outputs": [],
   "source": []
  }
 ],
 "metadata": {
  "kernelspec": {
   "display_name": "Python 3 (ipykernel)",
   "language": "python",
   "name": "python3"
  },
  "language_info": {
   "codemirror_mode": {
    "name": "ipython",
    "version": 3
   },
   "file_extension": ".py",
   "mimetype": "text/x-python",
   "name": "python",
   "nbconvert_exporter": "python",
   "pygments_lexer": "ipython3",
   "version": "3.10.4"
  }
 },
 "nbformat": 4,
 "nbformat_minor": 5
}
